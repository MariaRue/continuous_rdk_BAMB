{
 "cells": [
  {
   "cell_type": "markdown",
   "metadata": {},
   "source": [
    "We group the left and right answers. To do that, we take |Y| instead of Y, and we take a likelihood of response $p(\\text{resp} = 1) = p(\\text{resp} = \\text{left}) + p(\\text{resp} = \\text{right}) = \\sigma(X,\\beta,bias) + \\sigma(-X,\\beta,bias)$\n",
    "where $\\sigma(x) = \\frac{1}{1+\\exp(-\\beta X)}$ is the logistic function.\n",
    "\n",
    "(actually it is probably the wrong likelihood: instead it could be \n",
    "$p(\\text{resp} = 1) = \\cfrac{\\exp (-\\beta_{\\text{left}} X) + \\exp (-\\beta_{\\text{right}} X)}{\\exp (-\\beta_{\\text{left}} X) + \\exp (-\\beta_{\\text{right}} X) + \\exp (-\\beta_{\\text{noresp}} X)}$: see manuscript notes)"
   ]
  },
  {
   "cell_type": "code",
   "execution_count": 55,
   "metadata": {
    "ExecuteTime": {
     "end_time": "2019-09-09T21:53:46.500600Z",
     "start_time": "2019-09-09T21:53:46.484304Z"
    },
    "scrolled": true
   },
   "outputs": [],
   "source": [
    "import matplotlib.pyplot as plt\n",
    "import numpy as np\n",
    "from scipy.io import loadmat #alternative: mat2py\n",
    "import matplotlib.pyplot as plt\n",
    "import numpy as np\n",
    "from sklearn.linear_model import LogisticRegression\n",
    "import statsmodels.api as sm\n",
    "import scipy\n",
    "import sys\n",
    "path_data = '../data_BAMB/behaviour_EEG_syn/'\n",
    "\n",
    "\n",
    "\n",
    "def distri_sumsigmoids(x,beta,bias):\n",
    "    return sigmoid(x, beta, bias) + sigmoid(-x, beta, bias)\n",
    "\n",
    "def sigmoid(x, beta, bias):\n",
    "    return 1/(1+np.exp(- np.dot(x,beta) - bias))\n",
    "\n",
    "# Negative LogLikelihood to be minimized. The binomial term has been discarded.\n",
    "def llh_psycho_fit(weights,x,y):\n",
    "#     print(\"x.shape,y.shape\", x.shape,y.shape)\n",
    "    p_1 = distri_sumsigmoids(x, weights[1:], weights[0]) #the bias needs to be negative as we want this quantity to be <1\n",
    "#     print(\"p_1\",p_1)\n",
    "#     llh2=y*np.log(p_1)\n",
    "#     llh3=(1-y)*np.log(1-p_1)\n",
    "#     return -np.mean(llh2+llh3)\n",
    "    return np.mean(y*np.log(p_1) + (1-y)*np.log(1-p_1))\n",
    "\n",
    "def fun_to_minimize(weights):\n",
    "#     llh = llh_psycho_fit(weights, X, y)\n",
    "#     print(\"llh\", llh, \"likelihood:\",np.exp(llh), \"bias\", weights[0], \"weight_0\", weights[1])\n",
    "#     return -llh\n",
    "    return -llh_psycho_fit(weights, X, y)\n",
    "\n",
    "def jac_fun_to_minimize(weights): #see http://www.win-vector.com/blog/2011/09/the-simpler-derivation-of-logistic-regression/\n",
    "    beta = weights[1:]\n",
    "    bias = weights[0]\n",
    "    sig_plus = sigmoid(X, beta, bias)\n",
    "    sig_minus = sigmoid(-X, beta, bias)\n",
    "    grad_sig_plus = sig_plus*(1-sig_plus)\n",
    "    grad_sig_minus = sig_minus*(1-sig_minus)\n",
    "#     print(\"grad_sig_plus.shape\", grad_sig_plus.shape)\n",
    "    \n",
    "    A_y = (y/(sig_plus+sig_minus) - (1-y)/(1-sig_plus-sig_minus))\n",
    "#     print(\"A_y.shape\", A_y.shape)\n",
    "    B_x_beta = X.T * (grad_sig_plus - grad_sig_minus)\n",
    "#     print(\"B_x_beta.shape\", B_x_beta.shape)\n",
    "    B_x_bias = grad_sig_plus + grad_sig_minus\n",
    "#     print(\"B_x_bias.shape\", B_x_bias.shape)\n",
    "    B_x = np.row_stack((B_x_beta, B_x_bias)) #or column_stack\n",
    "#     print(\"B_x.shape\",B_x.shape)\n",
    "    grad_likelihood = np.dot(B_x,A_y)\n",
    "#     print(\"grad_likelihood.shape\", grad_likelihood.shape)\n",
    "    return - grad_likelihood\n",
    "\n",
    "\n"
   ]
  },
  {
   "cell_type": "code",
   "execution_count": 56,
   "metadata": {
    "ExecuteTime": {
     "end_time": "2019-09-09T21:53:54.582229Z",
     "start_time": "2019-09-09T21:53:48.063392Z"
    }
   },
   "outputs": [
    {
     "name": "stdout",
     "output_type": "stream",
     "text": [
      "(29490, 500, 4, 1, 6)\n",
      "subject 16\n",
      "   condition 1\n",
      "X.shape,y.shape (176940, 500) (176940,)\n",
      "X.shape (176940, 500)\n",
      "Initial value and gradient of the likelihood:\n",
      "llh -0.01339232584359905 likelihood: 0.9866969523601606 bias -10.0 weight_0 0.0007197438309564994\n",
      "-0.9866969523601606\n",
      "llh -0.01339232584359905 likelihood: 0.9866969523601606 bias -10.0 weight_0 0.0007197438309564994\n",
      "llh -0.013233004654365865 likelihood: 0.986854166615472 bias -10.0 weight_0 0.0007197438309564994\n",
      "llh -0.013347391994387735 likelihood: 0.9867412894483458 bias -10.0 weight_0 0.0007197438309564994\n",
      "llh -0.013379936144984995 likelihood: 0.9867091773137554 bias -10.0 weight_0 0.0007197438309564994\n",
      "llh -0.013388763657318295 likelihood: 0.9867004671647678 bias -10.0 weight_0 0.0007197438309564994\n",
      "llh -0.01339121108192207 likelihood: 0.986698052292723 bias -10.0 weight_0 0.0007197438309564994\n",
      "llh -0.013391935640883128 likelihood: 0.9866973373720663 bias -10.0 weight_0 0.0007197438309564994\n",
      "llh -0.01339217258366567 likelihood: 0.9866971035812814 bias -10.0 weight_0 0.0007197438309564994\n",
      "llh -0.013392259678114126 likelihood: 0.9866970176454452 bias -10.0 weight_0 0.0007197438309564994\n",
      "llh -0.013392295377383909 likelihood: 0.9866969824210827 bias -10.0 weight_0 0.0007197438309564994\n",
      "llh -0.013392311264667363 likelihood: 0.9866969667451482 bias -10.0 weight_0 0.0007197438309564994\n",
      "llh -0.01339231871768226 likelihood: 0.986696959391281 bias -10.0 weight_0 0.0007197438309564994\n",
      "llh -0.013392322321528524 likelihood: 0.9866969558353769 bias -10.0 weight_0 0.0007197438309564994\n",
      "Warning: Desired error not necessarily achieved due to precision loss.\n",
      "         Current function value: -0.986697\n",
      "         Iterations: 0\n",
      "         Function evaluations: 13\n",
      "         Gradient evaluations: 1\n"
     ]
    },
    {
     "ename": "NameError",
     "evalue": "name 'sys' is not defined",
     "output_type": "error",
     "traceback": [
      "\u001b[0;31m---------------------------------------------------------------------------\u001b[0m",
      "\u001b[0;31mNameError\u001b[0m                                 Traceback (most recent call last)",
      "\u001b[0;32m<ipython-input-56-bb3499ae560f>\u001b[0m in \u001b[0;36m<module>\u001b[0;34m\u001b[0m\n\u001b[1;32m    113\u001b[0m         \u001b[0mweights\u001b[0m \u001b[0;34m=\u001b[0m \u001b[0mres\u001b[0m\u001b[0;34m.\u001b[0m\u001b[0mx\u001b[0m\u001b[0;34m\u001b[0m\u001b[0;34m\u001b[0m\u001b[0m\n\u001b[1;32m    114\u001b[0m \u001b[0;31m#         print(bias, beta)\u001b[0m\u001b[0;34m\u001b[0m\u001b[0;34m\u001b[0m\u001b[0;34m\u001b[0m\u001b[0m\n\u001b[0;32m--> 115\u001b[0;31m         \u001b[0msys\u001b[0m\u001b[0;34m.\u001b[0m\u001b[0mexit\u001b[0m\u001b[0;34m(\u001b[0m\u001b[0;34m)\u001b[0m\u001b[0;34m\u001b[0m\u001b[0;34m\u001b[0m\u001b[0m\n\u001b[0m\u001b[1;32m    116\u001b[0m         \u001b[0mprint\u001b[0m\u001b[0;34m(\u001b[0m\u001b[0mweights\u001b[0m\u001b[0;34m.\u001b[0m\u001b[0mshape\u001b[0m\u001b[0;34m)\u001b[0m\u001b[0;34m\u001b[0m\u001b[0;34m\u001b[0m\u001b[0m\n\u001b[1;32m    117\u001b[0m \u001b[0;34m\u001b[0m\u001b[0m\n",
      "\u001b[0;31mNameError\u001b[0m: name 'sys' is not defined"
     ]
    }
   ],
   "source": [
    "#load the data for the fitting (one subject only)\n",
    "\n",
    "subjects = [16]#,18,19,20,21,24,26,28,32,34,35,40,41,51,52] #there are 15 subjects\n",
    "sessions = [1,2,3,4,5,6] #6 sessions by subject (with 4 conditions each)\n",
    "\n",
    "nsubjects = len(subjects) #15\n",
    "nsessions = len(sessions) #6\n",
    "nconditions = 4 #number of conditions\n",
    "\n",
    "last_dim_truncate = 29490 #minimum (on all the subjects and sessions) of the number of time bins in a {session,condition]\n",
    "nframes = 500 #number of frames taken (to go back in time)\n",
    "\n",
    "X_all = np.zeros((last_dim_truncate, nframes, nconditions, nsubjects, nsessions)) #too big\n",
    "print(X_all.shape)\n",
    "weights_fitted_subjects = []\n",
    "for subject in subjects:\n",
    "    print(\"subject\",subject)\n",
    "    \n",
    "    X_all_cond_dict = {1:[], 2:[], 3:[], 4:[]}\n",
    "    resp_all_cond_dict = {1:[], 2:[], 3:[], 4:[]}\n",
    "    \n",
    "    for sess in sessions:\n",
    "        mat = loadmat(str(path_data) + '/sub' + str(subject).zfill(3) + '_sess' + str(sess).zfill(3) +\\\n",
    "                       '_behav_syn.mat')\n",
    "        list_cond = [int(el[0]) for el in mat['S_behav'][0,0][0][0,:]]\n",
    "        \n",
    "        trigger_vals = mat['B'][0,0][12][0,:]\n",
    "        trigger_vals = np.array([el[:,0] for el in trigger_vals])\n",
    "\n",
    "        coherence_frame = mat['B'][0,0][14][0,:]\n",
    "        coherence_frame = np.array([el[:,0] for el in coherence_frame])\n",
    "\n",
    "        resp = np.zeros((4,trigger_vals.shape[1]))\n",
    "        for cond in range(4):\n",
    "            for trigger_value_left in [205,206]:\n",
    "#                 resp[cond,trigger_vals[cond,:] == trigger_value_left] = -1 #3 labels (-1/0/1)\n",
    "                resp[cond,trigger_vals[cond,:] == trigger_value_left] = 1 #2 labels (-0/1)\n",
    "            for trigger_value_right in [201,202]:\n",
    "                resp[cond,trigger_vals[cond,:] == trigger_value_right] = 1\n",
    "\n",
    "\n",
    "        for i_cond, cond in enumerate(list_cond):\n",
    "            resp_all_cond_dict[cond].append(resp[i_cond,:500+last_dim_truncate])\n",
    "        \n",
    "        X_all_cond = []\n",
    "        for cond in range(4):\n",
    "            X = []\n",
    "            for i in range(nframes):\n",
    "                beginning = 500-i\n",
    "                end = coherence_frame.shape[1] - i\n",
    "                X.append(coherence_frame[cond,beginning:end])\n",
    "            X = np.array(X)\n",
    "            X_all_cond.append(X)\n",
    "        X_all_cond = np.array(X_all_cond)\n",
    "        \n",
    "        #truncate and put into dict (with the condition info)\n",
    "        for i_cond, cond in enumerate(list_cond):\n",
    "            X_all_cond_dict[cond].append(X_all_cond[i_cond,:,:last_dim_truncate])\n",
    "        \n",
    "    for cond in X_all_cond_dict.keys():\n",
    "        X_all_cond_dict[cond] = np.concatenate((np.array(X_all_cond_dict[cond])),axis=1)\n",
    "        \n",
    "    for cond in resp_all_cond_dict.keys():\n",
    "        resp_all_cond_dict[cond] = np.concatenate(np.array(resp_all_cond_dict[cond])[:,nframes:])\n",
    "\n",
    "    weights_fitted = []\n",
    "    for cond in range(1,5):\n",
    "        print(\"   condition\",cond)\n",
    "        X = X_all_cond_dict[cond].T\n",
    "        y = resp_all_cond_dict[cond]\n",
    "        print(\"X.shape,y.shape\", X.shape,y.shape)\n",
    "\n",
    "#         ############## GLM (slow) ##########################\n",
    "#         m = sm.GLM(y,X,family=sm.families.Binomial())\n",
    "#         results = m.fit()\n",
    "#         weights = results.params\n",
    "#         print(\"weights.shape\",weights.shape)\n",
    "        \n",
    "        ############## Logistic Regression (which we used in the summer school) ##########################\n",
    "#         clf = LogisticRegression(penalty='l2', solver='lbfgs',\n",
    "#                              multi_class='auto').fit(X, y)\n",
    "#         clf = LogisticRegression(penalty='l1', solver='saga',\n",
    "#                              multi_class='multinomial').fit(X, y)\n",
    "#         weights = clf.coef_\n",
    "        \n",
    "        ##############  Modified Logistic Regression ##########################\n",
    "#         print(\"X.shape\", X_no_bias.shape)\n",
    "#         X = np.concatenate((np.ones((X_no_bias.shape[0],1)), X_no_bias),axis=1) #adding constant for X (bias)\n",
    "        print(\"X.shape\", X.shape)\n",
    "        #give initial value to the weights\n",
    "        weights_0 = np.random.uniform(size=X.shape[1]+1) / X.shape[1] #random positive weights\n",
    "#         weights_0 = 0.1*np.exp(-2*np.linspace(0,1,X.shape[1]+1)) #already give a decreasing shape\n",
    "#         print(weights_0)\n",
    "        weights_0[0] = -10 #bias (needs to be negative)\n",
    "#         print(\"Initial value and gradient of the likelihood:\")\n",
    "#         print(fun_to_minimize(weights_0))\n",
    "#         print(jac_fun_to_minimize(weights_0))\n",
    "        #Run the optimization\n",
    "#         res = scipy.optimize.minimize(fun_to_minimize, weights_0)\n",
    "        res = scipy.optimize.minimize(fun_to_minimize, x0=weights_0, method='CG', jac=jac_fun_to_minimize, options={'disp':True}) #options={'maxiter':500}\n",
    "        weights = res.x\n",
    "#         print(bias, beta)\n",
    "        print(weights.shape)\n",
    "        sys.exit() #stops the program (to run the optimization on 1 subject only)\n",
    "\n",
    "        weights_fitted.append(weights)\n",
    "    weights_fitted = np.array(weights_fitted)\n",
    "#     print(weights_fitted.shape)\n",
    "    weights_fitted_subjects.append(weights_fitted)\n",
    "\n",
    "weights_fitted_subjects = np.array(weights_fitted_subjects)\n",
    "# print(weights_fitted_subjects.shape)"
   ]
  },
  {
   "cell_type": "markdown",
   "metadata": {},
   "source": [
    "The minimization with scipy.optimize.minimize is too slow if we do not indicate the gradient. If we indicate the gradient, then it does not manage to find an appropriate step (for the gradient descent): \"Warning: Desired error not necessarily achieved due to precision loss.\". This is due to the function itself; I tried several optimization methods (method='CG', method='BFGS', ...etc) but I get the same warning every time."
   ]
  },
  {
   "cell_type": "code",
   "execution_count": 24,
   "metadata": {
    "ExecuteTime": {
     "end_time": "2019-09-09T19:16:26.237321Z",
     "start_time": "2019-09-09T19:16:26.228285Z"
    }
   },
   "outputs": [
    {
     "data": {
      "text/plain": [
       "(0.0, 0.0)"
      ]
     },
     "execution_count": 24,
     "metadata": {},
     "output_type": "execute_result"
    }
   ],
   "source": [
    "#comparing the initial weights to the fitted weights\n",
    "np.max(np.abs(weights[0] - weights_0[0])), np.max(np.abs(weights[1:] - weights_0[1:]))"
   ]
  },
  {
   "cell_type": "code",
   "execution_count": 48,
   "metadata": {
    "ExecuteTime": {
     "end_time": "2019-09-09T21:44:37.890643Z",
     "start_time": "2019-09-09T21:44:37.725873Z"
    }
   },
   "outputs": [
    {
     "data": {
      "image/png": "[encoded data removed]",
      "text/plain": [
       "<Figure size 432x288 with 1 Axes>"
      ]
     },
     "metadata": {
      "needs_background": "light"
     },
     "output_type": "display_data"
    }
   ],
   "source": [
    "#plotting the weights (without the bias term)\n",
    "plt.plot(weights[1:])\n",
    "plt.xlabel('optimization iteration')\n",
    "plt.show()\n",
    "\n",
    "#plotting the smoothed weights (without the bias term)\n",
    "def moving_average(x, w): #in order to smooth the curve of the weights\n",
    "    return np.convolve(x, np.ones(w), 'valid') / w\n",
    "mov_average_value = 10\n",
    "plt.plot(moving_average(weights[1:], mov_average_value))\n",
    "plt.show()"
   ]
  },
  {
   "cell_type": "code",
   "execution_count": null,
   "metadata": {},
   "outputs": [],
   "source": []
  }
 ],
 "metadata": {
  "kernelspec": {
   "display_name": "Python3",
   "language": "python",
   "name": "python3"
  },
  "language_info": {
   "codemirror_mode": {
    "name": "ipython",
    "version": 3
   },
   "file_extension": ".py",
   "mimetype": "text/x-python",
   "name": "python",
   "nbconvert_exporter": "python",
   "pygments_lexer": "ipython3",
   "version": "3.7.3"
  }
 },
 "nbformat": 4,
 "nbformat_minor": 2
}
